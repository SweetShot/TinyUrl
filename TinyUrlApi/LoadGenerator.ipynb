{
 "cells": [
  {
   "cell_type": "code",
   "execution_count": 1,
   "metadata": {},
   "outputs": [
    {
     "name": "stdout",
     "output_type": "stream",
     "text": [
      " Volume in drive F is Coding\n",
      " Volume Serial Number is 0581-D5E0\n",
      "\n",
      " Directory of F:\\Visual Studio Projects\\TinyUrl\\TinyUrlApi\n",
      "\n",
      "06/17/2019  05:18 PM    <DIR>          .\n",
      "06/17/2019  05:18 PM    <DIR>          ..\n",
      "06/17/2019  04:59 PM    <DIR>          .ipynb_checkpoints\n",
      "06/13/2019  05:17 PM               146 appsettings.Development.json\n",
      "06/17/2019  10:59 AM               252 appsettings.json\n",
      "06/13/2019  05:17 PM    <DIR>          bin\n",
      "06/17/2019  04:37 PM    <DIR>          Config\n",
      "06/17/2019  04:50 PM    <DIR>          Controllers\n",
      "06/17/2019  04:52 PM    <DIR>          Data\n",
      "06/17/2019  10:47 AM               533 Dockerfile\n",
      "06/17/2019  04:33 PM    <DIR>          Helpers\n",
      "06/17/2019  04:59 PM               555 LoadGenerator.ipynb\n",
      "06/17/2019  01:35 PM    <DIR>          Models\n",
      "06/13/2019  08:09 PM    <DIR>          obj\n",
      "06/17/2019  05:18 PM         8,529,110 pass.txt\n",
      "06/13/2019  05:17 PM               632 Program.cs\n",
      "06/17/2019  04:46 PM    <DIR>          Properties\n",
      "06/17/2019  04:37 PM             2,270 Startup.cs\n",
      "06/17/2019  03:47 PM            10,622 TestData.ipynb\n",
      "06/17/2019  04:37 PM               979 TinyUrlApi.csproj\n",
      "06/17/2019  10:34 AM             1,143 TinyUrlApi.csproj.user\n",
      "              10 File(s)      8,546,242 bytes\n",
      "              11 Dir(s)  113,901,617,152 bytes free\n"
     ]
    }
   ],
   "source": [
    "!dir"
   ]
  },
  {
   "cell_type": "code",
   "execution_count": 2,
   "metadata": {},
   "outputs": [],
   "source": [
    "pas = [x for x in open('pass.txt')]"
   ]
  },
  {
   "cell_type": "code",
   "execution_count": 3,
   "metadata": {},
   "outputs": [
    {
     "data": {
      "text/plain": [
       "999999"
      ]
     },
     "execution_count": 3,
     "metadata": {},
     "output_type": "execute_result"
    }
   ],
   "source": [
    "len(pas)"
   ]
  },
  {
   "cell_type": "code",
   "execution_count": 5,
   "metadata": {},
   "outputs": [],
   "source": [
    "with open('testurls.txt', 'w') as f:\n",
    "    for i, p in enumerate(pas):\n",
    "        f.write(\"https://localhost:44358/api/TinyUrl POST \" + p[:-1] + \"-\" + str(i+1) + '\\n')"
   ]
  },
  {
   "cell_type": "code",
   "execution_count": null,
   "metadata": {},
   "outputs": [],
   "source": []
  }
 ],
 "metadata": {
  "kernelspec": {
   "display_name": "Python 3",
   "language": "python",
   "name": "python3"
  },
  "language_info": {
   "codemirror_mode": {
    "name": "ipython",
    "version": 3
   },
   "file_extension": ".py",
   "mimetype": "text/x-python",
   "name": "python",
   "nbconvert_exporter": "python",
   "pygments_lexer": "ipython3",
   "version": "3.7.3"
  }
 },
 "nbformat": 4,
 "nbformat_minor": 2
}
